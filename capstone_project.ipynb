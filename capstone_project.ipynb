{
    "nbformat_minor": 1, 
    "cells": [
        {
            "source": "_The following cell contains secret tokens:_", 
            "cell_type": "markdown", 
            "metadata": {}
        }, 
        {
            "execution_count": 1, 
            "cell_type": "code", 
            "metadata": {}, 
            "outputs": [], 
            "source": "# The code was removed by Watson Studio for sharing."
        }, 
        {
            "source": "# Find a location to set up a local store that helps saving the planet!", 
            "cell_type": "markdown", 
            "metadata": {
                "collapsed": true
            }
        }, 
        {
            "source": "## Introduction\n### An environmental/cultural Problem\nFast fashion is the term used to describe clothing designs that move quickly from the catwalk to stores to meet new trends. The rise of fast fashion brands like Zara, Uniqlo, H&M, GAP and Topshop is accompanied with the huge increase of clothing production. According to a study of McKinsey & Company the worldwide clothing production doubled from 2000 to 2014 due to falling production costs, streamlined operations, and rising consumer spending.<sup>[1](https://www.mckinsey.com/business-functions/sustainability/our-insights/style-thats-sustainable-a-new-fast-fashion-formula)</sup> In Germany alone, 1,350,000 tons of textile waste arise yearly.<sup>[2](https://www.bvse.de/themen/geschichte-des-textilrecycling/zahlen-zur-sammlung-und-verwendung-von-altkleidern.html)</sup> \n\nToday 57% of German customers name sustainability as an importent buying criteria for clothing.<sup>[3](http://de.statista.com/statistik/daten/studie/955983/umfrage/umfrage-zu-wichtigen-kriterien-beim-kauf-von-bekleidung-in-deutschland)</sup> A break of the economic fast fashion trend towards sustainable and slow fashion is likely to happen in the next years.<sup>[4](https://www.fashionrevolution.org/),[5](https://www.greenpeace.de/sites/www.greenpeace.de/files/publications/s01951_greenpeace_report_konsumkollaps_fast_fashion.pdf),[6](https://fashion-week-berlin.com/en/blog/single-news/going-green-movement-on-german-catwalks.html)</sup> The reuse of already produced clothings is an approach of the Zero Waste and the Sustainable Fashion Movement to overcome the eco-unfriedly consumer behavior of the past years. Through the reuse of clothes and textiles, the pollution- and energy-intensive production of new clothing can be avoided.\n\nWith a combined 36% of the global share, the United States, the United Kingdom and Germany were the top three used clothes exporters in 2015. Because several countries in Eastern Africa and China announced to ban imports of textile waste, the purchasing prices on used clothings will most likely dramatically drop due to the collapse of the export market.<sup>[7](http://www.chinadaily.com.cn/china/2017-07/21/content_30194081.htm),[8](https://www.un.org/africarenewal/magazine/december-2017-march-2018/protectionist-ban-imported-used-clothing)</sup> \n\n### The Business Idea\nThe drop of purchasing prices for used clothings and the increase of consumer interest due to the zero waste/sustainability trend in German society, combined with a trend for vintage fashion leads to a relatively high profit margin. \n\nTherefore it's a great time to open up a second-hand store! Since our possible custumers care about the environment and their own carbon footprint, let's decide to set up a local store instead of an online shop. Berlin has a lot of tourists and multiple fashion fairs every year, e.g. Bread&Butter, Mecedes Benz-Fashion Week. It's a fashion hotspot in Germany and the Berlin Street Style is famous among fashionistas around the globe.<sup>[8](https://www.vogue.com/slideshow/berlin-fashion-week-fall-2018)</sup> \n\n### The Business Problem\nBut what's the best adress to set up our new store? In this project we will try to find an optimal location for a second-hand store. Specifically, this report will be targeted to stakeholders interested in opening a second-hand store in Berlin, Germany.\n\nTo benefit from the spending capacity of tourists visiting the city we want to determine a neighborhood that is well-frequented by them. Since another second-hand store nearby tends to draw the same demographic of customers and all of our products are unique in their style, size and story they tell - we can assume, that we can benefit from another second-hand store nearby through an increase of our customer volume/walk-in traffic. \n\nBerlin is known for it's high rents, thus the estimated rent per square metre will be a comparision criterion and a relevant information for the stakeholders. We will use Data Science methods to generate a list of the most promissing locations based on the mentioned criteria. Then we will express the (dis-)advantages of each location, so that the stakeholders are able to make an informed decision on where to set up the store.", 
            "cell_type": "markdown", 
            "metadata": {}
        }, 
        {
            "source": "## Data\n\nFor our analysis we need several data resources:\n\n+ __Foursquare API:__ \n  + Find places that are popular with tourists\n  + Find existing second-hand shops\n  + Get adress of potential new store location (reverse geocoding)\n+ __GeoJSON Data:__ \n  + Borders of the boroughs and neighborhoods of Berlin\n+ __[ImmobilienScout24 API](https://api.immobilienscout24.de/our-apis/search/realestate-specific-parameters.html#store):__ \n  + Get data on avg. rent price per square metre for region of location\n  + (Get nearest store to rent)", 
            "cell_type": "markdown", 
            "metadata": {}
        }, 
        {
            "execution_count": 2, 
            "cell_type": "code", 
            "metadata": {}, 
            "outputs": [], 
            "source": "import json\nimport requests\nimport pandas as pd\nfrom pandas.io.json import json_normalize "
        }, 
        {
            "execution_count": 3, 
            "cell_type": "code", 
            "metadata": {}, 
            "outputs": [], 
            "source": "def get_categories(categories):\n    return [(cat['name'], cat['id']) for cat in categories]\n\ndef format_address(location):\n    address = ', '.join(location['formattedAddress'])\n    address = address.replace(', Deutschland', '')\n    address = address.replace(', Germany', '')\n    return address"
        }, 
        {
            "execution_count": 4, 
            "cell_type": "code", 
            "metadata": {}, 
            "outputs": [], 
            "source": "url = 'https://api.foursquare.com/v2/venues/explore'\n\nparams = dict(\n    client_id=FOURSQUARE_CLIENT_ID,\n    client_secret=FOURSQUARE_CLIENT_SECRET,\n    v='20190610',\n#  ll='40.7243,-74.0018',\n    near='Berlin, Germany',\n    radius=100000,\n    categoryId='4bf58dd8d48988d101951735' # Second-Hand/Vintage Stores\n#  query='coffee',\n#  limit=1\n)\n\n\nresults = requests.get(url=url, params=params).json()['response']['groups'][0]['items']\nvenues = [(item['venue']['id'],\n                   item['venue']['name'],\n                   get_categories(item['venue']['categories']),\n                   (item['venue']['location']['lat'], item['venue']['location']['lng']),\n                   format_address(item['venue']['location'])#,\n          #         item['venue']['location']['distance']\n          ) for item in results]"
        }, 
        {
            "execution_count": 5, 
            "cell_type": "code", 
            "metadata": {}, 
            "outputs": [
                {
                    "output_type": "display_data", 
                    "data": {
                        "text/plain": "[('509f919b011cc38cb9b3ce02',\n  'Vintage Galore',\n  [('Thrift / Vintage Store', '4bf58dd8d48988d101951735')],\n  (52.492403544238734, 13.426569700241089),\n  'Sanderstr. 12, 12047 Berlin'),\n ('4ee388e9f9abfc7225bfa20f',\n  'Let Them Eat Cake',\n  [('Thrift / Vintage Store', '4bf58dd8d48988d101951735')],\n  (52.48311277647355, 13.441567622507979),\n  'Weserstr. 164, 12045 Berlin'),\n ('4adcda8ff964a520284b21e3',\n  'Sch\u00f6nhauser Design',\n  [('Thrift / Vintage Store', '4bf58dd8d48988d101951735')],\n  (52.525407782486326, 13.406729516105173),\n  'Alte Sch\u00f6nhauser Str. 28, 10119 Berlin'),\n ('4adcda8ff964a520024b21e3',\n  'Kleidermarkt Garage',\n  [('Thrift / Vintage Store', '4bf58dd8d48988d101951735')],\n  (52.50170271905174, 13.351814601407142),\n  'Ahornstr. 2, 10787 Berlin'),\n ('57a620a0cd10f20013ccbab3',\n  'V Vintage Fashion',\n  [('Thrift / Vintage Store', '4bf58dd8d48988d101951735')],\n  (52.510012, 13.455918),\n  'Kopernikusstrasse 18, 10245 Berlin'),\n ('540afe74498e77fa823a120d',\n  'Repeater',\n  [('Thrift / Vintage Store', '4bf58dd8d48988d101951735')],\n  (52.48905043101504, 13.433035943741507),\n  'Pannierstra\u00dfe 45 (Framstra\u00dfe), Berlin'),\n ('4c5db3716147be9aa8d09209',\n  'Sing Blackbird',\n  [('Thrift / Vintage Store', '4bf58dd8d48988d101951735')],\n  (52.49254517592333, 13.426195451962398),\n  'Sanderstr. 11, 12047 Berlin'),\n ('500b0183e4b00d76e4cd16f9',\n  'Pink Cadillac',\n  [('Thrift / Vintage Store', '4bf58dd8d48988d101951735')],\n  (52.49834, 13.442615),\n  'Wrangelstr. 55, 10997 Berlin'),\n ('4bca45cf0687ef3b9dbbdbcc',\n  'Pony H\u00fctchen',\n  [('Thrift / Vintage Store', '4bf58dd8d48988d101951735')],\n  (52.502218830623924, 13.430618300448014),\n  'P\u00fccklerstra\u00dfe 33, Berlin'),\n ('585555611d21ba69bf49c91b',\n  'Pick & Weight',\n  [('Thrift / Vintage Store', '4bf58dd8d48988d101951735')],\n  (52.49022226481037, 13.389300088642493),\n  'Berlin'),\n ('4eb28a8cf790c3b572ad1a9e',\n  'Humana Second Hand',\n  [('Thrift / Vintage Store', '4bf58dd8d48988d101951735')],\n  (52.53078616898812, 13.411496984583486),\n  'Sch\u00f6nhauser Allee 10-11, 10119 Berlin'),\n ('4bc98a75fb84c9b62c3e1b3e',\n  'Pauls Boutique',\n  [('Thrift / Vintage Store', '4bf58dd8d48988d101951735')],\n  (52.53922355731293, 13.408024915131247),\n  'Oderberger Str. 47, 10435 Berlin'),\n ('4bd070ea462cb7135250d807',\n  'Humana',\n  [('Thrift / Vintage Store', '4bf58dd8d48988d101951735')],\n  (52.516722, 13.454311),\n  'Frankfurter Tor 3, 10243 Berlin'),\n ('4df3564645dd4e269340246d',\n  'Trash-Schick',\n  [('Thrift / Vintage Store', '4bf58dd8d48988d101951735')],\n  (52.50959061568638, 13.45693294945053),\n  'W\u00fchlischstr. 31, 10245 Berlin'),\n ('562289ad498ed6af8a1ab221',\n  'PICKNWEIGHT',\n  [('Thrift / Vintage Store', '4bf58dd8d48988d101951735')],\n  (52.52458, 13.407284),\n  'Alte Sch\u00f6nhauser Str. 30, 10119 Berlin'),\n ('4df3956f18386ecb4e30e18f',\n  'Colours',\n  [('Thrift / Vintage Store', '4bf58dd8d48988d101951735')],\n  (52.4902008658654, 13.389312522282575),\n  'Bergmannstr. 102, 10961 Berlin'),\n ('5093d839e4b0625eb6d399cc',\n  'Goo',\n  [('Thrift / Vintage Store', '4bf58dd8d48988d101951735')],\n  (52.539439082137314, 13.407721779473816),\n  'Ordebergerstra\u00dfe, 45, Berlin'),\n ('4bbedab430c99c742a615411',\n  'Made in Berlin',\n  [('Thrift / Vintage Store', '4bf58dd8d48988d101951735')],\n  (52.52490813963079, 13.40594882626129),\n  'Neue Sch\u00f6nhauser Str. 19, 10178 Berlin'),\n ('4c6fe62cf52cb7132f5aabaf',\n  'VEB Orange',\n  [('Thrift / Vintage Store', '4bf58dd8d48988d101951735')],\n  (52.54021316353339, 13.405287579291945),\n  'Oderberger Str. 29, 10435 Berlin'),\n ('4ccc3afa511b236a65c2efc9',\n  'Soeur',\n  [('Thrift / Vintage Store', '4bf58dd8d48988d101951735')],\n  (52.53353573977676, 13.428109259231013),\n  'Marienburger Strasse 24, 10405 Berlin'),\n ('4bd8278409ecb713f822487c',\n  'Humana',\n  [('Thrift / Vintage Store', '4bf58dd8d48988d101951735')],\n  (52.52277538212036, 13.416591882705688),\n  'Alexanderstr. 7 (Otto-Braun-Str.), 10178 Berlin'),\n ('5614006c498e72ab4b0cebaf',\n  'Humana Second Hand',\n  [('Thrift / Vintage Store', '4bf58dd8d48988d101951735')],\n  (52.523636, 13.40069),\n  'Oranienburger Str. 87-89, 10178 Berlin'),\n ('53668b8a11d2e1fb368b4bc9',\n  'O.F.T. Ohne Frage toll',\n  [('Thrift / Vintage Store', '4bf58dd8d48988d101951735')],\n  (52.52726680234068, 13.386875130299389),\n  'Chaussestrasse 131, 10115 Berlin'),\n ('4c4afd03712ac928dd77446c',\n  'Stiefelkombinat Berlin',\n  [('Thrift / Vintage Store', '4bf58dd8d48988d101951735')],\n  (52.541036698492185, 13.410766124725342),\n  'Eberswalder Str. 21-22, 10437 Berlin'),\n ('4ffc9714e4b00fe5cb287191',\n  'Berlin District',\n  [('Thrift / Vintage Store', '4bf58dd8d48988d101951735')],\n  (52.54073094, 13.41639338),\n  'Danziger Stra\u00dfe 21, 10435 Berlin'),\n ('4c5aec8af346c928c13150ca',\n  'Oxfam',\n  [('Thrift / Vintage Store', '4bf58dd8d48988d101951735')],\n  (52.54885471726476, 13.411594333122006),\n  'Sch\u00f6nhauser Allee 118a, Berlin'),\n ('4db2ba84a86e8d27075fb669',\n  'Berliner Modeinstitut',\n  [('Thrift / Vintage Store', '4bf58dd8d48988d101951735')],\n  (52.51614380287812, 13.464977287726615),\n  'Samariterstra\u00dfe 8, 10247 Berlin'),\n ('536cb9a5498e5c9171c9474f',\n  'STYLO - Vintage & Second Hand Shop',\n  [('Thrift / Vintage Store', '4bf58dd8d48988d101951735')],\n  (52.49139100592781, 13.385188579559326),\n  'Hagelberger Str. 52 (Mehringdamm), 10965 Berlin'),\n ('4f2b122ce5e89e152e500784',\n  'Humana Second Hand',\n  [('Thrift / Vintage Store', '4bf58dd8d48988d101951735')],\n  (52.52673112205683, 13.343925476074219),\n  'Turmstr. 26, 10559 Berlin'),\n ('53e5e3be498e40c7e25f4f18',\n  'Vintage Berlin',\n  [('Thrift / Vintage Store', '4bf58dd8d48988d101951735')],\n  (52.49024125674247, 13.448810577392578),\n  'Karl-Kunger-Str. 54 (Bouch\u00e9str. 20), 12435 Berlin')]"
                    }, 
                    "metadata": {}
                }
            ], 
            "source": "display(venues)"
        }, 
        {
            "execution_count": 6, 
            "cell_type": "code", 
            "metadata": {}, 
            "outputs": [], 
            "source": "def get_venues_near_location(lat, lon, category, client_id, client_secret, radius=500, limit=100):\n    version = '20180724'\n    url = 'https://api.foursquare.com/v2/venues/explore?client_id={}&client_secret={}&v={}&ll={},{}&categoryId={}&radius={}&limit={}'.format(\n        client_id, client_secret, version, lat, lon, category, radius, limit)\n    try:\n        results = requests.get(url).json()['response']['groups'][0]['items']\n        venues = [(item['venue']['id'],\n                   item['venue']['name'],\n                   get_categories(item['venue']['categories']),\n                   (item['venue']['location']['lat'], item['venue']['location']['lng']),\n                   format_address(item['venue']['location']),\n                   item['venue']['location']['distance']) for item in results]        \n    except:\n        venues = []\n    return venues"
        }, 
        {
            "execution_count": null, 
            "cell_type": "code", 
            "metadata": {}, 
            "outputs": [], 
            "source": ""
        }
    ], 
    "metadata": {
        "kernelspec": {
            "display_name": "Python 3.5", 
            "name": "python3", 
            "language": "python"
        }, 
        "language_info": {
            "mimetype": "text/x-python", 
            "nbconvert_exporter": "python", 
            "version": "3.5.5", 
            "name": "python", 
            "file_extension": ".py", 
            "pygments_lexer": "ipython3", 
            "codemirror_mode": {
                "version": 3, 
                "name": "ipython"
            }
        }
    }, 
    "nbformat": 4
}